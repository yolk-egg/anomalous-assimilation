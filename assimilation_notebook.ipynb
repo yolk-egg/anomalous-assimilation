{
 "cells": [
  {
   "cell_type": "code",
   "execution_count": null,
   "id": "469d3c87-4569-4ef1-81c0-ccdb5a4d8ff6",
   "metadata": {},
   "outputs": [],
   "source": [
    "import numpy as np\n",
    "import matplotlib.pyplot as plt\n",
    "import scipy\n",
    "import shutil\n",
    "import assimilation\n",
    "import os\n",
    "\n",
    "rng = np.random.default_rng()"
   ]
  },
  {
   "cell_type": "code",
   "execution_count": null,
   "id": "3e0799c8-6b45-4c66-b5b4-f8ade481270d",
   "metadata": {},
   "outputs": [],
   "source": [
    "# space\n",
    "x = np.linspace(0, 10, 100)\n",
    "# total time to integrate over\n",
    "ts = np.linspace(0, 10, 1000)\n",
    "# observation timesteps\n",
    "obs_steps1 = np.arange(2, 1000, 50)\n",
    "obs_steps2 = np.arange(250, 750, 25)\n",
    "obs_steps3 = np.arange(375, 625, 12)\n",
    "# Derivative order\n",
    "alpha = 1.1\n",
    "\n",
    "# observation mode\n",
    "mode = 'boolean'\n",
    "# observation matrix, a truth table if boolean\n",
    "H  = np.ones(100).astype(int) == 1\n",
    "#H[49:]=0\n",
    "#H = H==1\n",
    "\n",
    "# ensemble members\n",
    "n_members = 40\n",
    "\n",
    "# Operator in Fourier space\n",
    "def L_k (u, ks):\n",
    "  k_v = ks[np.newaxis, :, np.newaxis]\n",
    "  return (-k_v*k_v)*u\n",
    "def L_k2 (u, ks):\n",
    "  k_v = ks[np.newaxis, :, np.newaxis]\n",
    "  return (-k_v*k_v - np.power(1j*k_v, alpha))*u\n",
    "\n",
    "# initial truth\n",
    "z = np.exp(-(x-5)*(x-5)/0.3)\n",
    "\n",
    "# background covariance matrix, 1d array if boolean\n",
    "B = np.ones(100) * 1\n",
    "\n",
    "# observation covariance matrix, 1d array if boolean\n",
    "P = np.ones(np.sum(H)) * 10"
   ]
  },
  {
   "cell_type": "code",
   "execution_count": null,
   "id": "88496af7-9f99-49c1-84c5-eebe759271e0",
   "metadata": {},
   "outputs": [],
   "source": [
    "(z_true, z_mean1, z_cov1) = assimilation.assimilation(z, x, ts, obs_steps1, alpha, L_k, n_members, H, P, B)\n",
    "(z_true, z_mean2, z_cov2) = assimilation.assimilation(z, x, ts, obs_steps2, alpha, L_k, n_members, H, P, B)\n",
    "(z_true, z_mean3, z_cov3) = assimilation.assimilation(z, x, ts, obs_steps3, alpha, L_k, n_members, H, P, B)\n",
    "(z_true, z_mean_none, z_cov_none) = assimilation.assimilation(z, x, ts, [], alpha, L_k, n_members, H, P, B)"
   ]
  },
  {
   "cell_type": "code",
   "execution_count": null,
   "id": "1be8ff7b-9aa2-433b-a809-c2b5767680ac",
   "metadata": {},
   "outputs": [],
   "source": [
    "z_cov_total1 = np.sum(np.diagonal(z_cov1), axis=1)\n",
    "z_cov_total2 = np.sum(np.diagonal(z_cov2), axis=1)\n",
    "z_cov_total3 = np.sum(np.diagonal(z_cov3), axis=1)\n",
    "z_cov_none_total = np.sum(np.diagonal(z_cov_none), axis=1)\n",
    "fig, ax = plt.subplots()\n",
    "ax.plot(ts, z_cov_total1)\n",
    "ax.plot(ts, z_cov_total2)\n",
    "ax.plot(ts, z_cov_total3)\n",
    "ax.set_xlabel('Time')\n",
    "ax.set_ylabel('Total variance')\n",
    "#ax.scatter(ts[obs_steps], np.zeros(obs_steps.shape), marker='|', c='r')\n",
    "plt.savefig('var-2nd-1_1', dpi=300)\n",
    "fig, ax = plt.subplots()\n",
    "ax.plot(ts, z_cov_total1/z_cov_none_total)\n",
    "ax.plot(ts, z_cov_total2/z_cov_none_total)\n",
    "ax.plot(ts, z_cov_total3/z_cov_none_total)\n",
    "ax.set_xlabel('Time')\n",
    "ax.set_ylabel('Relative variance')\n",
    "plt.savefig('rel-var-2nd-1_1', dpi=300)"
   ]
  },
  {
   "cell_type": "code",
   "execution_count": null,
   "id": "965871c5-bf53-4fdc-976e-37f3f30a122c",
   "metadata": {},
   "outputs": [],
   "source": [
    "assimilation.animation('anim', x, z_mean[:, ::5], z_cov=z_cov[:, :, ::5])"
   ]
  }
 ],
 "metadata": {
  "kernelspec": {
   "display_name": "Python 3 (ipykernel)",
   "language": "python",
   "name": "python3"
  },
  "language_info": {
   "codemirror_mode": {
    "name": "ipython",
    "version": 3
   },
   "file_extension": ".py",
   "mimetype": "text/x-python",
   "name": "python",
   "nbconvert_exporter": "python",
   "pygments_lexer": "ipython3",
   "version": "3.9.13"
  }
 },
 "nbformat": 4,
 "nbformat_minor": 5
}
